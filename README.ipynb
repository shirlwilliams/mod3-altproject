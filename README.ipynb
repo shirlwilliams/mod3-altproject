{
 "cells": [
  {
   "cell_type": "markdown",
   "metadata": {},
   "source": [
    "# SyriaTel Customer Churn Data\n",
    "Module 3 Project<br>\n",
    "\n",
    "Building a classifier to predict whether a customer will (\"soon\") stop doing business with SyriaTel."
   ]
  },
  {
   "attachments": {},
   "cell_type": "markdown",
   "metadata": {},
   "source": [
    "<img src=\"images/churn-graphic.png\" alt='people leaving big churn clip art' width=500>"
   ]
  },
  {
   "cell_type": "markdown",
   "metadata": {},
   "source": [
    "# Outline\n",
    "* EDA\n",
    "* Model\n",
    "* Conclusion\n",
    "* Extensions"
   ]
  },
  {
   "cell_type": "markdown",
   "metadata": {},
   "source": [
    "# EDA"
   ]
  },
  {
   "cell_type": "markdown",
   "metadata": {},
   "source": [
    "## The Data\n",
    "3333 entries of the following categories are evaluated:\n",
    "\n",
    "* account length        \n",
    "* area code             \n",
    "* phone number          \n",
    "* international plan    \n",
    "* voice mail plan       \n",
    "* number voice mail messages \n",
    "* total day minutes     \n",
    "* total day calls       \n",
    "* total day charge      \n",
    "* total eve minutes     \n",
    "* total eve calls       \n",
    "* total eve charge      \n",
    "* total night minutes   \n",
    "* total night calls     \n",
    "* total night charge    \n",
    "* total international minutes   \n",
    "* total international calls      \n",
    "* total international charge     \n",
    "* customer service calls\n",
    "* churn "
   ]
  },
  {
   "cell_type": "markdown",
   "metadata": {},
   "source": [
    "## Churn\n",
    "Predictions should be made on when customers are likely to leave (churn).\n",
    "\n",
    "<img src=\"images/churn-plot.png\" alt=\"churn data\" align=\"left\"/>\n",
    "<img src=\"images/churn-counts.png\" alt=\"churn numbers\" align=\"center\" width=\"150\"/><br><br><br><br><br><br>"
   ]
  },
  {
   "cell_type": "markdown",
   "metadata": {},
   "source": [
    "## Handling Categorical Data\n",
    "* Area code is already numerical and only two values are represented so there is nothing to do.\n",
    "* I believe state is not needed at this time. It will be dropped.\n",
    "* To encode international_plan and voice_mail_plan I changed yes to 1 and no to 0.\n"
   ]
  },
  {
   "cell_type": "markdown",
   "metadata": {},
   "source": [
    "# Model\n",
    "After creating a baseline and selecting several models to try, a Random Forest model was determined to have the best results."
   ]
  },
  {
   "cell_type": "markdown",
   "metadata": {},
   "source": [
    "## Baseline\n",
    "Random Forest on out-of-the-box data.<br><br>\n",
    "RandomForestClassifier(bootstrap=True, class_weight=None, criterion='gini',\n",
    "                       max_depth=None, max_features='auto', max_leaf_nodes=None,\n",
    "                       min_impurity_decrease=0.0, min_impurity_split=None,\n",
    "                       min_samples_leaf=1, min_samples_split=2,\n",
    "                       min_weight_fraction_leaf=0.0, n_estimators=10,\n",
    "                       n_jobs=None, oob_score=False, random_state=None,\n",
    "                       verbose=0, warm_start=False\n",
    "                       \n",
    "Gave a train/test split of (0.986, 0.917).\n",
    "This result is generally good for a baseline model and shows potential."
   ]
  },
  {
   "cell_type": "markdown",
   "metadata": {},
   "source": [
    "## Other Models\n",
    "Following are other models used and their scores:\n",
    "\n",
    "* The XGBoost score looks promising. \n",
    "* The Random Forest score changed from (0.986, 0.917) to (0.953, 0.941) showing improvement.\n",
    "* However, SVM (1.0, 0.862) and Decision Tree appear (1.0, 0.907) to be overfitting.\n",
    "* The AdaBoost score, though not as high, appears to be more consistent with the train/test scores (0.896, 0.885)\n",
    "\n",
    "\n",
    "<img src=\"images/models-cm.png\" alt=\"data from models\" width =\"350\" align=\"left\"/><br><br><br><br><br><br><br><br><br><br><br>\n",
    "The XGBoost and Random Forest models are very similar. Random Forest has a higher predictive score and the confusion matrix holds slightly more true positives and true negatives. Additionally, it minimizes the false negatives.<br><br>\n",
    "Note: other factors of the RF model were looked at, such at entropy, but did not improve the model."
   ]
  },
  {
   "cell_type": "markdown",
   "metadata": {},
   "source": [
    "# Features and Scores"
   ]
  },
  {
   "cell_type": "markdown",
   "metadata": {},
   "source": [
    "## Important Features\n",
    "As the Random Forest model provides the best model results, let's look at important features of this model.\n",
    "<img src=\"images/feat-importance.png\" alt=\"graph of feature importance\" width='800' align=\"center\"/>\n",
    "<br>\n",
    "Odd Note: The features increase in importance in a linear fashion. Made up data, coincidence, or does the formula calculate it this way.\n",
    "<br>\n",
    "<center><b>The most important features seem to be total_day_charge, total_day_minutes, and customer_service_calls.</b></center>"
   ]
  },
  {
   "cell_type": "markdown",
   "metadata": {},
   "source": [
    "# Scores\n",
    "Let's look closer at the confusion matrix and the classification report.<br><br>\n",
    "<center><h4>Confusion Matrix</h4></center>\n",
    "\n",
    "<img src=\"images/xg-cm.png\" alt=\"graph of feature importance\" width='400' align=\"center\"/><br><br>\n",
    "Interpretation of the confusion matrix.\n",
    "* True Positives - 86%. This means that 86% of the time our model correctly predicts people who stay with Syriatel.\n",
    "* False Positives - 3.7%. This means that 3.7% of the time our model incorrectly predicted the number of people who would stay with Syriatel\n",
    "* False Negatives - 0.7%. This means that very few people were predicted to churn but actually stayed.\n",
    "* True Negatives - 9.6%. This means that number of people who actually left Syraitel was predicted correctly 9.6% of the time.<br><br> \n",
    "\n",
    "<img src=\"images/cls-rpt.png\" alt=\"graph of feature importance\" width='500' align=\"center\"/><br><br>\n",
    "Interpretation of the classification report.\n",
    "* Precision – What percent of predictions were correct?\n",
    "    * 96% of the time those who stayed were predicted correctly.\n",
    "    * 93% of the time those who left Syriatel were predicted correctly.\n",
    "* Recall - (Sensitivity) What percent of the positive cases did you catch? \n",
    "    * 99% our model found when a customer stayed\n",
    "    * 72% our model found when a customer left\n",
    "\n",
    "* Total Accuracy is 96%\n"
   ]
  },
  {
   "cell_type": "markdown",
   "metadata": {},
   "source": [
    "# Conclusion\n"
   ]
  },
  {
   "cell_type": "markdown",
   "metadata": {},
   "source": [
    "* The model can aid in identifying customers who my leave the company\n",
    "* Key Features may by a clue to customer churn:\n",
    "    * Calls to customer service\n",
    "        * If Possible, offer incentives \n",
    "        * Ensure customers are satisfied \n",
    "    * International Calls\n",
    "        * Check for better rates to aid customer\n",
    "        * Possibly offer incentives"
   ]
  },
  {
   "cell_type": "markdown",
   "metadata": {},
   "source": [
    "# Extensions\n",
    "Other features to consider providing:\n",
    "* customer features: basic information about the customer (e.g., age, income, house value, college education)\n",
    "* support features: characterizations of the customer’s interactions with customer support (e.g., number of interactions, topics of questions asked, satisfaction ratings)\n",
    "* usage features: characterizations of the customer’s usage of the service\n",
    "* contextual features: any other contextual information we have about the customer"
   ]
  },
  {
   "cell_type": "code",
   "execution_count": null,
   "metadata": {},
   "outputs": [],
   "source": []
  }
 ],
 "metadata": {
  "kernelspec": {
   "display_name": "Python [conda env:learn-env] *",
   "language": "python",
   "name": "conda-env-learn-env-py"
  },
  "language_info": {
   "codemirror_mode": {
    "name": "ipython",
    "version": 3
   },
   "file_extension": ".py",
   "mimetype": "text/x-python",
   "name": "python",
   "nbconvert_exporter": "python",
   "pygments_lexer": "ipython3",
   "version": "3.6.9"
  },
  "toc": {
   "base_numbering": 1,
   "nav_menu": {},
   "number_sections": false,
   "sideBar": true,
   "skip_h1_title": false,
   "title_cell": "Table of Contents",
   "title_sidebar": "Contents",
   "toc_cell": false,
   "toc_position": {},
   "toc_section_display": true,
   "toc_window_display": true
  }
 },
 "nbformat": 4,
 "nbformat_minor": 2
}
